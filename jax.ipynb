{
 "cells": [
  {
   "cell_type": "markdown",
   "id": "95fa13ed-4426-44b9-ae87-eaa5c6a7bc75",
   "metadata": {},
   "source": [
    "# JAX\n",
    "\n",
    "Website: https://jax.readthedocs.io/en/latest/index.html\n",
    "\n",
    "Main idea: the bridge between python and XLA\n",
    "\n",
    "1. Python code -> `jaxpr` language \n",
    "2. `jaxpr` language -> XLA compiled code"
   ]
  },
  {
   "cell_type": "code",
   "execution_count": 1,
   "id": "d9f6c069-254b-4db8-9bac-2b3fdbc60ec7",
   "metadata": {},
   "outputs": [],
   "source": [
    "import jax\n",
    "import jax.numpy as jnp"
   ]
  },
  {
   "cell_type": "markdown",
   "id": "a31ee94e-1036-4f61-90c7-ccda199eecd9",
   "metadata": {},
   "source": [
    "## `jaxpr` language\n",
    "\n",
    "`jaxprs` are JAX’s internal intermediate representation (IR) of programs. They are explicitly typed, functional, first-order, and in algebraic normal form (ANF)."
   ]
  },
  {
   "cell_type": "code",
   "execution_count": 2,
   "id": "b1095e10-eefd-44aa-ba59-077eef8750a5",
   "metadata": {},
   "outputs": [
    {
     "name": "stdout",
     "output_type": "stream",
     "text": [
      "{ lambda ; a:f32[]. let\n",
      "    b:f32[] = log a\n",
      "    c:f32[] = log 2.0\n",
      "    d:f32[] = div b c\n",
      "  in (d,) }\n"
     ]
    }
   ],
   "source": [
    "def log2(x):\n",
    "  ln_x = jnp.log(x)\n",
    "  ln_2 = jnp.log(2.0)\n",
    "  return ln_x / ln_2\n",
    "\n",
    "print(jax.make_jaxpr(log2)(3.0))"
   ]
  },
  {
   "cell_type": "markdown",
   "id": "fe018097-33bc-485d-bbda-9536efefbb04",
   "metadata": {},
   "source": [
    "## XLA: Accelerated Linear Algebra\n",
    "\n",
    "XLA is an open-source compiler for machine learning. The XLA compiler takes models from popular frameworks such as PyTorch, TensorFlow, and **JAX**, and optimizes the models for high-performance execution across different hardware platforms including **GPUs, CPUs, and ML accelerators**."
   ]
  },
  {
   "cell_type": "markdown",
   "id": "f1711f74-533e-4c43-870d-f2eb2baa2fd3",
   "metadata": {},
   "source": [
    "## 1. `jax.jit()` Just-in-time compilation"
   ]
  },
  {
   "cell_type": "markdown",
   "id": "d07ab2c5-3af1-4424-a975-31920967a6f5",
   "metadata": {},
   "source": [
    "### Example: SELU\n",
    "\n",
    "$$\n",
    "{\\rm SELU}(x) = \\lambda({\\rm max}(0,x) + {\\rm min}(0,\\alpha (e^x-1)))\n",
    "$$"
   ]
  },
  {
   "cell_type": "code",
   "execution_count": 3,
   "id": "78d6b4fb-f219-4a27-be93-5a068796b675",
   "metadata": {},
   "outputs": [
    {
     "name": "stdout",
     "output_type": "stream",
     "text": [
      "1.81 ms ± 62.7 μs per loop (mean ± std. dev. of 7 runs, 1,000 loops each)\n"
     ]
    }
   ],
   "source": [
    "# Without jit\n",
    "\n",
    "def selu(x, alpha=1.67, lambda_=1.05):\n",
    "  return lambda_ * jnp.where(x > 0, x, alpha * jnp.exp(x) - alpha)\n",
    "\n",
    "x = jnp.arange(1000000)\n",
    "%timeit selu(x).block_until_ready()"
   ]
  },
  {
   "cell_type": "code",
   "execution_count": 4,
   "id": "dfe4fd68-dd8d-48cf-9257-7e21a339613e",
   "metadata": {},
   "outputs": [
    {
     "name": "stdout",
     "output_type": "stream",
     "text": [
      "386 μs ± 67.7 μs per loop (mean ± std. dev. of 7 runs, 1,000 loops each)\n"
     ]
    }
   ],
   "source": [
    "# With jit\n",
    "\n",
    "selu_jit = jax.jit(selu)\n",
    "%timeit selu_jit(x).block_until_ready()"
   ]
  },
  {
   "cell_type": "markdown",
   "id": "5cb8e9da-78dd-4860-8b25-80ae2cdbe4ff",
   "metadata": {},
   "source": [
    "## 2. `jax.vmap()` Automatic vectorization"
   ]
  },
  {
   "cell_type": "code",
   "execution_count": 5,
   "id": "27e31c32-1336-4825-a501-da358fedb260",
   "metadata": {},
   "outputs": [
    {
     "data": {
      "text/plain": [
       "Array([11., 20., 29.], dtype=float32)"
      ]
     },
     "execution_count": 5,
     "metadata": {},
     "output_type": "execute_result"
    }
   ],
   "source": [
    "def convolve(x, w):\n",
    "  output = []\n",
    "  for i in range(1, len(x)-1):\n",
    "    output.append(jnp.dot(x[i-1:i+2], w))\n",
    "  return jnp.array(output)\n",
    "\n",
    "x = jnp.array([0. ,1. ,2. ,3. ,4.])\n",
    "w = jnp.array([2., 3., 4.])\n",
    "convolve(x, w)"
   ]
  },
  {
   "cell_type": "code",
   "execution_count": 6,
   "id": "5f1e63df-6ff9-4f05-a4d1-ab481916be99",
   "metadata": {},
   "outputs": [
    {
     "data": {
      "text/plain": [
       "Array([[11., 20., 29.],\n",
       "       [11., 20., 29.]], dtype=float32)"
      ]
     },
     "execution_count": 6,
     "metadata": {},
     "output_type": "execute_result"
    }
   ],
   "source": [
    "auto_batch_convolve = jax.vmap(convolve)\n",
    "\n",
    "xs = jnp.stack([x, x])\n",
    "ws = jnp.stack([w, w])\n",
    "auto_batch_convolve(xs, ws)"
   ]
  },
  {
   "cell_type": "code",
   "execution_count": 7,
   "id": "ff457bfa-f128-4ab4-b05c-2da276b713bc",
   "metadata": {},
   "outputs": [
    {
     "data": {
      "text/plain": [
       "{ lambda ; a:f32[5] b:f32[3]. let\n",
       "    c:f32[3] = slice[limit_indices=(3,) start_indices=(0,) strides=None] a\n",
       "    d:f32[] = dot_general[\n",
       "      dimension_numbers=(([0], [0]), ([], []))\n",
       "      preferred_element_type=float32\n",
       "    ] c b\n",
       "    e:f32[3] = slice[limit_indices=(4,) start_indices=(1,) strides=None] a\n",
       "    f:f32[] = dot_general[\n",
       "      dimension_numbers=(([0], [0]), ([], []))\n",
       "      preferred_element_type=float32\n",
       "    ] e b\n",
       "    g:f32[3] = slice[limit_indices=(5,) start_indices=(2,) strides=None] a\n",
       "    h:f32[] = dot_general[\n",
       "      dimension_numbers=(([0], [0]), ([], []))\n",
       "      preferred_element_type=float32\n",
       "    ] g b\n",
       "    i:f32[1] = broadcast_in_dim[broadcast_dimensions=() shape=(1,)] d\n",
       "    j:f32[1] = broadcast_in_dim[broadcast_dimensions=() shape=(1,)] f\n",
       "    k:f32[1] = broadcast_in_dim[broadcast_dimensions=() shape=(1,)] h\n",
       "    l:f32[3] = concatenate[dimension=0] i j k\n",
       "  in (l,) }"
      ]
     },
     "execution_count": 7,
     "metadata": {},
     "output_type": "execute_result"
    }
   ],
   "source": [
    "jax.make_jaxpr(convolve)(x, w)"
   ]
  },
  {
   "cell_type": "code",
   "execution_count": 8,
   "id": "8209093c-38fe-4f18-b3c2-2abc60775c3b",
   "metadata": {},
   "outputs": [
    {
     "data": {
      "text/plain": [
       "{ lambda ; a:f32[2,5] b:f32[2,3]. let\n",
       "    c:f32[2,3] = slice[limit_indices=(2, 3) start_indices=(0, 0) strides=None] a\n",
       "    d:f32[2] = dot_general[\n",
       "      dimension_numbers=(([1], [1]), ([0], [0]))\n",
       "      preferred_element_type=float32\n",
       "    ] c b\n",
       "    e:f32[2,3] = slice[limit_indices=(2, 4) start_indices=(0, 1) strides=None] a\n",
       "    f:f32[2] = dot_general[\n",
       "      dimension_numbers=(([1], [1]), ([0], [0]))\n",
       "      preferred_element_type=float32\n",
       "    ] e b\n",
       "    g:f32[2,3] = slice[limit_indices=(2, 5) start_indices=(0, 2) strides=None] a\n",
       "    h:f32[2] = dot_general[\n",
       "      dimension_numbers=(([1], [1]), ([0], [0]))\n",
       "      preferred_element_type=float32\n",
       "    ] g b\n",
       "    i:f32[2,1] = broadcast_in_dim[broadcast_dimensions=(0,) shape=(2, 1)] d\n",
       "    j:f32[2,1] = broadcast_in_dim[broadcast_dimensions=(0,) shape=(2, 1)] f\n",
       "    k:f32[2,1] = broadcast_in_dim[broadcast_dimensions=(0,) shape=(2, 1)] h\n",
       "    l:f32[2,3] = concatenate[dimension=1] i j k\n",
       "  in (l,) }"
      ]
     },
     "execution_count": 8,
     "metadata": {},
     "output_type": "execute_result"
    }
   ],
   "source": [
    "jax.make_jaxpr(auto_batch_convolve)(xs, ws)"
   ]
  },
  {
   "cell_type": "markdown",
   "id": "b8ab0207-800f-475f-8fbd-a247ec7a532a",
   "metadata": {},
   "source": [
    "## 3. `jax.grad()` Automatic differentiation\n",
    "\n",
    "Chain rule: \n",
    "\n",
    "$$\n",
    "\\frac{df(g(x))}{dx} = \\frac{df}{dg}\\frac{dg}{dx}\n",
    "$$"
   ]
  },
  {
   "cell_type": "code",
   "execution_count": 9,
   "id": "4836c8e8-e28c-4522-8006-df57f78c5a94",
   "metadata": {},
   "outputs": [
    {
     "data": {
      "text/plain": [
       "{ lambda ; a:f32[]. let\n",
       "    b:f32[] = log a\n",
       "    c:f32[] = log 2.0\n",
       "    _:f32[] = div b c\n",
       "    d:f32[] = div 1.0 c\n",
       "    e:f32[] = div d a\n",
       "  in (e,) }"
      ]
     },
     "execution_count": 9,
     "metadata": {},
     "output_type": "execute_result"
    }
   ],
   "source": [
    "dlog2dx = jax.grad(log2)\n",
    "\n",
    "jax.make_jaxpr(dlog2dx)(3.0)"
   ]
  },
  {
   "cell_type": "markdown",
   "id": "b5e09b4f-5ebc-443d-b7f3-1944b1900402",
   "metadata": {},
   "source": [
    "## Astro-related implications of JAX"
   ]
  },
  {
   "cell_type": "markdown",
   "id": "2f954ef0-d9eb-4526-9d3d-6835b14c8a3a",
   "metadata": {},
   "source": [
    "### MCMC sampling\n",
    "\n",
    "Example: https://rlouf.github.io/post/jax-random-walk-metropolis/\n",
    "\n",
    "![mcmc](mcmc.png)"
   ]
  },
  {
   "cell_type": "markdown",
   "id": "9ef29fd7-73ba-4f67-ab95-06cc480af197",
   "metadata": {},
   "source": [
    "### Spectral fitting\n",
    "\n",
    "Example: `jaxspec` arXiv:2409.05757\n",
    "\n",
    "![jaxspec](jaxspec.png)"
   ]
  },
  {
   "cell_type": "markdown",
   "id": "4eadfe6e-c853-4ca7-90df-bd9e6ea82caf",
   "metadata": {},
   "source": [
    "### Stellar streams\n",
    "\n",
    "Example: `StreamSculpter` arXiv:2410.21174\n",
    "\n",
    "![stream](stream.png)"
   ]
  }
 ],
 "metadata": {
  "kernelspec": {
   "display_name": "Python [conda env:my_galax]",
   "language": "python",
   "name": "conda-env-my_galax-py"
  },
  "language_info": {
   "codemirror_mode": {
    "name": "ipython",
    "version": 3
   },
   "file_extension": ".py",
   "mimetype": "text/x-python",
   "name": "python",
   "nbconvert_exporter": "python",
   "pygments_lexer": "ipython3",
   "version": "3.12.4"
  }
 },
 "nbformat": 4,
 "nbformat_minor": 5
}
